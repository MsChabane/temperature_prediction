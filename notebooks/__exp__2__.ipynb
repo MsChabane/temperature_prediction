{
 "cells": [
  {
   "cell_type": "markdown",
   "id": "5dcf617b",
   "metadata": {},
   "source": [
    "# Experiment one\n",
    "- using simple imputer (most-frequent) to handle nan values \n",
    "- using one hot enocder to encode the categorical features\n",
    "- unsing tree based models with diffrent `n_estimator` values\n",
    "- try both normalisation (minmax/standard) and without normalisation"
   ]
  },
  {
   "cell_type": "code",
   "execution_count": null,
   "id": "5f284f98",
   "metadata": {},
   "outputs": [],
   "source": [
    "import pandas as pd \n",
    "import numpy as np \n",
    "import time\n",
    "from sklearn.preprocessing import OneHotEncoder,StandardScaler,MinMaxScaler\n",
    "from sklearn.impute import SimpleImputer\n",
    "from sklearn.model_selection import train_test_split\n",
    "from sklearn.metrics import r2_score , root_mean_squared_error,explained_variance_score,mean_absolute_error\n",
    "from sklearn.compose import make_column_transformer\n",
    "from sklearn.pipeline import make_pipeline\n",
    "#models\n",
    "\n",
    "from sklearn.tree import DecisionTreeRegressor\n",
    "from sklearn.ensemble import RandomForestRegressor,GradientBoostingRegressor,HistGradientBoostingRegressor,BaggingRegressor,AdaBoostRegressor"
   ]
  },
  {
   "cell_type": "code",
   "execution_count": null,
   "id": "997de318",
   "metadata": {},
   "outputs": [],
   "source": []
  },
  {
   "cell_type": "code",
   "execution_count": null,
   "id": "54a4ddd3",
   "metadata": {},
   "outputs": [],
   "source": []
  },
  {
   "cell_type": "code",
   "execution_count": null,
   "id": "650d0e31",
   "metadata": {},
   "outputs": [],
   "source": []
  }
 ],
 "metadata": {
  "kernelspec": {
   "display_name": ".venv",
   "language": "python",
   "name": "python3"
  },
  "language_info": {
   "codemirror_mode": {
    "name": "ipython",
    "version": 3
   },
   "file_extension": ".py",
   "mimetype": "text/x-python",
   "name": "python",
   "nbconvert_exporter": "python",
   "pygments_lexer": "ipython3",
   "version": "3.12.1"
  }
 },
 "nbformat": 4,
 "nbformat_minor": 5
}
